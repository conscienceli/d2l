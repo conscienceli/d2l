{
 "cells": [
  {
   "cell_type": "markdown",
   "id": "dba4a8d7",
   "metadata": {
    "origin_pos": 0,
    "slideshow": {
     "slide_type": "slide"
    }
   },
   "source": [
    "# GPU\n",
    "自2000年以来，GPU性能每十年增长1000倍。\n",
    "\n",
    "本节，我们将讨论如何利用这种计算性能进行研究。\n",
    "首先是如何使用单个GPU，然后是如何使用多个GPU和多个服务器（具有多个GPU）。\n",
    "\n",
    "我们先看看如何使用单个NVIDIA GPU进行计算。\n",
    "首先，确保至少安装了一个NVIDIA GPU。\n",
    "然后，下载[NVIDIA驱动和CUDA](https://developer.nvidia.com/cuda-downloads)\n",
    "并按照提示设置适当的路径。\n",
    "当这些准备工作完成，就可以使用`nvidia-smi`命令来(**查看显卡信息。**)\n"
   ]
  },
  {
   "cell_type": "code",
   "execution_count": 1,
   "id": "6e4f6733",
   "metadata": {
    "execution": {
     "iopub.execute_input": "2022-12-07T16:36:01.631469Z",
     "iopub.status.busy": "2022-12-07T16:36:01.630909Z",
     "iopub.status.idle": "2022-12-07T16:36:04.378222Z",
     "shell.execute_reply": "2022-12-07T16:36:04.377235Z"
    },
    "origin_pos": 1,
    "slideshow": {
     "slide_type": "slide"
    },
    "tab": [
     "pytorch"
    ]
   },
   "outputs": [
    {
     "name": "stdout",
     "output_type": "stream",
     "text": [
      "Sun Mar 26 17:26:31 2023       \r\n",
      "+-----------------------------------------------------------------------------+\r\n",
      "| NVIDIA-SMI 470.161.03   Driver Version: 515.65.01    CUDA Version: 11.7     |\r\n",
      "|-------------------------------+----------------------+----------------------+\r\n",
      "| GPU  Name        Persistence-M| Bus-Id        Disp.A | Volatile Uncorr. ECC |\r\n",
      "| Fan  Temp  Perf  Pwr:Usage/Cap|         Memory-Usage | GPU-Util  Compute M. |\r\n",
      "|                               |                      |               MIG M. |\r\n",
      "|===============================+======================+======================|\r\n",
      "|   0  NVIDIA RTX A6000    Off  | 00000000:21:00.0 Off |                  Off |\r\n",
      "| 50%   75C    P2   165W / 300W |   9825MiB / 49140MiB |     81%      Default |\r\n",
      "|                               |                      |                  N/A |\r\n",
      "+-------------------------------+----------------------+----------------------+\r\n",
      "|   1  NVIDIA RTX A6000    Off  | 00000000:49:00.0 Off |                  Off |\r\n",
      "| 53%   76C    P2   161W / 300W |  48228MiB / 49140MiB |    100%      Default |\r\n",
      "|                               |                      |                  N/A |\r\n",
      "+-------------------------------+----------------------+----------------------+\r\n",
      "                                                                               \r\n",
      "+-----------------------------------------------------------------------------+\r\n",
      "| Processes:                                                                  |\r\n",
      "|  GPU   GI   CI        PID   Type   Process name                  GPU Memory |\r\n",
      "|        ID   ID                                                   Usage      |\r\n",
      "|=============================================================================|\r\n",
      "|    0   N/A  N/A   3256578      C   python                             10MiB |\r\n",
      "|    0   N/A  N/A   3284455      C   python                           1871MiB |\r\n",
      "|    0   N/A  N/A   3284456      C   python                           1871MiB |\r\n",
      "|    0   N/A  N/A   3284457      C   python                           1871MiB |\r\n",
      "|    0   N/A  N/A   3284458      C   python                           1871MiB |\r\n",
      "|    0   N/A  N/A   3284459      C   python                           1871MiB |\r\n",
      "|    1   N/A  N/A   2401019      C   python                          47771MiB |\r\n",
      "+-----------------------------------------------------------------------------+\r\n"
     ]
    }
   ],
   "source": [
    "!nvidia-smi"
   ]
  },
  {
   "cell_type": "markdown",
   "id": "aace758f",
   "metadata": {
    "origin_pos": 5,
    "slideshow": {
     "slide_type": "slide"
    }
   },
   "source": [
    "## [**计算设备**]\n",
    "\n",
    "我们可以指定用于存储和计算的设备，如CPU和GPU。\n",
    "默认情况下，张量是在内存中创建的，然后使用CPU计算它。"
   ]
  },
  {
   "cell_type": "markdown",
   "id": "3f3d01b2",
   "metadata": {
    "origin_pos": 7,
    "slideshow": {
     "slide_type": "slide"
    },
    "tab": [
     "pytorch"
    ]
   },
   "source": [
    "在PyTorch中，CPU和GPU可以用`torch.device('cpu')`\n",
    "和`torch.device('cuda')`表示。\n",
    "应该注意的是，`cpu`设备意味着所有物理CPU和内存，\n",
    "这意味着PyTorch的计算将尝试使用所有CPU核心。\n",
    "然而，`gpu`设备只代表一个卡和相应的显存。\n",
    "如果有多个GPU，我们使用`torch.device(f'cuda:{i}')`\n",
    "来表示第$i$块GPU（$i$从0开始）。\n",
    "另外，`cuda:0`和`cuda`是等价的。\n"
   ]
  },
  {
   "cell_type": "code",
   "execution_count": 2,
   "id": "0adc8388",
   "metadata": {
    "execution": {
     "iopub.execute_input": "2022-12-07T16:36:04.382742Z",
     "iopub.status.busy": "2022-12-07T16:36:04.381990Z",
     "iopub.status.idle": "2022-12-07T16:36:07.446633Z",
     "shell.execute_reply": "2022-12-07T16:36:07.445494Z"
    },
    "origin_pos": 10,
    "slideshow": {
     "slide_type": "slide"
    },
    "tab": [
     "pytorch"
    ]
   },
   "outputs": [
    {
     "data": {
      "text/plain": [
       "(device(type='cpu'), device(type='cuda'), device(type='cuda', index=1))"
      ]
     },
     "execution_count": 2,
     "metadata": {},
     "output_type": "execute_result"
    }
   ],
   "source": [
    "import torch\n",
    "from torch import nn\n",
    "\n",
    "torch.device('cpu'), torch.device('cuda'), torch.device('cuda:1')"
   ]
  },
  {
   "cell_type": "markdown",
   "id": "51f2a605",
   "metadata": {
    "origin_pos": 13,
    "slideshow": {
     "slide_type": "slide"
    }
   },
   "source": [
    "我们可以(**查询可用gpu的数量。**)\n"
   ]
  },
  {
   "cell_type": "code",
   "execution_count": 3,
   "id": "0b096de0",
   "metadata": {
    "execution": {
     "iopub.execute_input": "2022-12-07T16:36:07.450762Z",
     "iopub.status.busy": "2022-12-07T16:36:07.450184Z",
     "iopub.status.idle": "2022-12-07T16:36:07.455974Z",
     "shell.execute_reply": "2022-12-07T16:36:07.455020Z"
    },
    "origin_pos": 15,
    "tab": [
     "pytorch"
    ]
   },
   "outputs": [
    {
     "data": {
      "text/plain": [
       "2"
      ]
     },
     "execution_count": 3,
     "metadata": {},
     "output_type": "execute_result"
    }
   ],
   "source": [
    "torch.cuda.device_count()"
   ]
  },
  {
   "cell_type": "markdown",
   "id": "08ef7e46",
   "metadata": {
    "origin_pos": 18,
    "slideshow": {
     "slide_type": "slide"
    }
   },
   "source": [
    "现在我们定义了两个方便的函数，\n",
    "[**这两个函数允许我们在不存在所需所有GPU的情况下运行代码。**]\n"
   ]
  },
  {
   "cell_type": "code",
   "execution_count": 4,
   "id": "6fc56ba2",
   "metadata": {
    "execution": {
     "iopub.execute_input": "2022-12-07T16:36:07.459627Z",
     "iopub.status.busy": "2022-12-07T16:36:07.459214Z",
     "iopub.status.idle": "2022-12-07T16:36:07.467344Z",
     "shell.execute_reply": "2022-12-07T16:36:07.466336Z"
    },
    "origin_pos": 20,
    "slideshow": {
     "slide_type": "slide"
    },
    "tab": [
     "pytorch"
    ]
   },
   "outputs": [
    {
     "data": {
      "text/plain": [
       "(device(type='cuda', index=0),\n",
       " device(type='cpu'),\n",
       " [device(type='cuda', index=0), device(type='cuda', index=1)])"
      ]
     },
     "execution_count": 4,
     "metadata": {},
     "output_type": "execute_result"
    }
   ],
   "source": [
    "def try_gpu(i=0):  #@save\n",
    "    \"\"\"如果存在，则返回gpu(i)，否则返回cpu()\"\"\"\n",
    "    if torch.cuda.device_count() >= i + 1:\n",
    "        return torch.device(f'cuda:{i}')\n",
    "    return torch.device('cpu')\n",
    "\n",
    "def try_all_gpus():  #@save\n",
    "    \"\"\"返回所有可用的GPU，如果没有GPU，则返回[cpu(),]\"\"\"\n",
    "    devices = [torch.device(f'cuda:{i}')\n",
    "             for i in range(torch.cuda.device_count())]\n",
    "    return devices if devices else [torch.device('cpu')]\n",
    "\n",
    "try_gpu(), try_gpu(10), try_all_gpus()"
   ]
  },
  {
   "cell_type": "markdown",
   "id": "3fb46f10",
   "metadata": {
    "origin_pos": 23,
    "slideshow": {
     "slide_type": "slide"
    }
   },
   "source": [
    "## 张量与GPU\n",
    "\n",
    "我们可以[**查询张量所在的设备。**]\n",
    "默认情况下，张量是在CPU上创建的。\n"
   ]
  },
  {
   "cell_type": "code",
   "execution_count": 5,
   "id": "65223e5b",
   "metadata": {
    "execution": {
     "iopub.execute_input": "2022-12-07T16:36:07.471075Z",
     "iopub.status.busy": "2022-12-07T16:36:07.470617Z",
     "iopub.status.idle": "2022-12-07T16:36:07.476666Z",
     "shell.execute_reply": "2022-12-07T16:36:07.475725Z"
    },
    "origin_pos": 25,
    "tab": [
     "pytorch"
    ]
   },
   "outputs": [
    {
     "data": {
      "text/plain": [
       "device(type='cpu')"
      ]
     },
     "execution_count": 5,
     "metadata": {},
     "output_type": "execute_result"
    }
   ],
   "source": [
    "x = torch.tensor([1, 2, 3])\n",
    "x.device"
   ]
  },
  {
   "cell_type": "markdown",
   "id": "c0142c5b",
   "metadata": {
    "origin_pos": 28,
    "slideshow": {
     "slide_type": "slide"
    }
   },
   "source": [
    "需要注意的是，无论何时我们要对多个项进行操作，\n",
    "它们都必须在同一个设备上。\n",
    "例如，如果我们对两个张量求和，\n",
    "我们需要确保两个张量都位于同一个设备上，\n",
    "否则框架将不知道在哪里存储结果，甚至不知道在哪里执行计算。"
   ]
  },
  {
   "cell_type": "markdown",
   "id": "4ba15b47",
   "metadata": {
    "slideshow": {
     "slide_type": "slide"
    }
   },
   "source": [
    "### [**存储在GPU上**]\n",
    "有几种方法可以在GPU上存储张量。\n",
    "例如，我们可以在创建张量时指定存储设备。接\n",
    "下来，我们在第一个`gpu`上创建张量变量`X`。\n",
    "在GPU上创建的张量只消耗这个GPU的显存。\n",
    "我们可以使用`nvidia-smi`命令查看显存使用情况。\n",
    "一般来说，我们需要确保不创建超过GPU显存限制的数据。"
   ]
  },
  {
   "cell_type": "code",
   "execution_count": 6,
   "id": "0eebc597",
   "metadata": {
    "execution": {
     "iopub.execute_input": "2022-12-07T16:36:07.481012Z",
     "iopub.status.busy": "2022-12-07T16:36:07.480000Z",
     "iopub.status.idle": "2022-12-07T16:36:11.432615Z",
     "shell.execute_reply": "2022-12-07T16:36:11.431810Z"
    },
    "origin_pos": 30,
    "tab": [
     "pytorch"
    ]
   },
   "outputs": [
    {
     "data": {
      "text/plain": [
       "tensor([[1., 1., 1.],\n",
       "        [1., 1., 1.]], device='cuda:0')"
      ]
     },
     "execution_count": 6,
     "metadata": {},
     "output_type": "execute_result"
    }
   ],
   "source": [
    "X = torch.ones(2, 3, device=try_gpu())\n",
    "X"
   ]
  },
  {
   "cell_type": "markdown",
   "id": "3ce5fca7",
   "metadata": {
    "origin_pos": 33,
    "slideshow": {
     "slide_type": "slide"
    }
   },
   "source": [
    "假设我们至少有两个GPU，下面的代码将在(**第二个GPU上创建一个随机张量。**)\n"
   ]
  },
  {
   "cell_type": "code",
   "execution_count": 7,
   "id": "a7e5aec3",
   "metadata": {
    "execution": {
     "iopub.execute_input": "2022-12-07T16:36:11.436179Z",
     "iopub.status.busy": "2022-12-07T16:36:11.435624Z",
     "iopub.status.idle": "2022-12-07T16:36:14.699209Z",
     "shell.execute_reply": "2022-12-07T16:36:14.698340Z"
    },
    "origin_pos": 35,
    "tab": [
     "pytorch"
    ]
   },
   "outputs": [
    {
     "data": {
      "text/plain": [
       "tensor([[0.0818, 0.2390, 0.6114],\n",
       "        [0.6471, 0.4351, 0.6369]], device='cuda:1')"
      ]
     },
     "execution_count": 7,
     "metadata": {},
     "output_type": "execute_result"
    }
   ],
   "source": [
    "Y = torch.rand(2, 3, device=try_gpu(1))\n",
    "Y"
   ]
  },
  {
   "cell_type": "markdown",
   "id": "f3a68b18",
   "metadata": {
    "origin_pos": 38,
    "slideshow": {
     "slide_type": "slide"
    }
   },
   "source": [
    "### 复制\n",
    "\n",
    "如果我们[**要计算`X + Y`，我们需要决定在哪里执行这个操作**]。\n",
    "例如，如 :numref:`fig_copyto`所示，\n",
    "我们可以将`X`传输到第二个GPU并在那里执行操作。\n",
    "*不要*简单地`X`加上`Y`，因为这会导致异常，\n",
    "运行时引擎不知道该怎么做：它在同一设备上找不到数据会导致失败。\n",
    "由于`Y`位于第二个GPU上，所以我们需要将`X`移到那里，\n",
    "然后才能执行相加运算。\n",
    "\n",
    "![复制数据以在同一设备上执行操作](../img/copyto.svg)"
   ]
  },
  {
   "cell_type": "code",
   "execution_count": 8,
   "id": "1522f2f4",
   "metadata": {
    "execution": {
     "iopub.execute_input": "2022-12-07T16:36:14.702836Z",
     "iopub.status.busy": "2022-12-07T16:36:14.702239Z",
     "iopub.status.idle": "2022-12-07T16:36:14.709833Z",
     "shell.execute_reply": "2022-12-07T16:36:14.709036Z"
    },
    "origin_pos": 40,
    "slideshow": {
     "slide_type": "slide"
    },
    "tab": [
     "pytorch"
    ]
   },
   "outputs": [
    {
     "name": "stdout",
     "output_type": "stream",
     "text": [
      "tensor([[1., 1., 1.],\n",
      "        [1., 1., 1.]], device='cuda:0')\n",
      "tensor([[1., 1., 1.],\n",
      "        [1., 1., 1.]], device='cuda:1')\n"
     ]
    }
   ],
   "source": [
    "Z = X.cuda(1)\n",
    "print(X)\n",
    "print(Z)"
   ]
  },
  {
   "cell_type": "markdown",
   "id": "4e3f6325",
   "metadata": {
    "origin_pos": 42,
    "slideshow": {
     "slide_type": "-"
    }
   },
   "source": [
    "[**现在数据在同一个GPU上（`Z`和`Y`都在），我们可以将它们相加。**]\n"
   ]
  },
  {
   "cell_type": "code",
   "execution_count": 9,
   "id": "ea63744b",
   "metadata": {
    "execution": {
     "iopub.execute_input": "2022-12-07T16:36:14.713506Z",
     "iopub.status.busy": "2022-12-07T16:36:14.712939Z",
     "iopub.status.idle": "2022-12-07T16:36:14.719449Z",
     "shell.execute_reply": "2022-12-07T16:36:14.718628Z"
    },
    "origin_pos": 43,
    "tab": [
     "pytorch"
    ]
   },
   "outputs": [
    {
     "data": {
      "text/plain": [
       "tensor([[1.0818, 1.2390, 1.6114],\n",
       "        [1.6471, 1.4351, 1.6369]], device='cuda:1')"
      ]
     },
     "execution_count": 9,
     "metadata": {},
     "output_type": "execute_result"
    }
   ],
   "source": [
    "Y + Z"
   ]
  },
  {
   "cell_type": "markdown",
   "id": "167f6b26",
   "metadata": {
    "origin_pos": 45,
    "slideshow": {
     "slide_type": "slide"
    },
    "tab": [
     "pytorch"
    ]
   },
   "source": [
    "假设变量`Z`已经存在于第二个GPU上。\n",
    "如果我们还是调用`Z.cuda(1)`会发生什么？\n",
    "它将返回`Z`，而不会复制并分配新内存。\n"
   ]
  },
  {
   "cell_type": "code",
   "execution_count": 10,
   "id": "1351fd07",
   "metadata": {
    "execution": {
     "iopub.execute_input": "2022-12-07T16:36:14.723011Z",
     "iopub.status.busy": "2022-12-07T16:36:14.722460Z",
     "iopub.status.idle": "2022-12-07T16:36:14.727476Z",
     "shell.execute_reply": "2022-12-07T16:36:14.726727Z"
    },
    "origin_pos": 48,
    "tab": [
     "pytorch"
    ]
   },
   "outputs": [
    {
     "data": {
      "text/plain": [
       "True"
      ]
     },
     "execution_count": 10,
     "metadata": {},
     "output_type": "execute_result"
    }
   ],
   "source": [
    "Z.cuda(1) is Z"
   ]
  },
  {
   "cell_type": "markdown",
   "id": "dde9bc4f",
   "metadata": {
    "slideshow": {
     "slide_type": "slide"
    }
   },
   "source": [
    "## [**神经网络与GPU**]\n",
    "类似地，神经网络模型可以指定设备。\n",
    "下面的代码将模型参数放在GPU上。"
   ]
  },
  {
   "cell_type": "code",
   "execution_count": 11,
   "id": "39b743c9",
   "metadata": {
    "execution": {
     "iopub.execute_input": "2022-12-07T16:36:14.730922Z",
     "iopub.status.busy": "2022-12-07T16:36:14.730278Z",
     "iopub.status.idle": "2022-12-07T16:36:14.735655Z",
     "shell.execute_reply": "2022-12-07T16:36:14.734885Z"
    },
    "origin_pos": 52,
    "tab": [
     "pytorch"
    ]
   },
   "outputs": [],
   "source": [
    "net = nn.Sequential(nn.Linear(3, 1))\n",
    "net = net.to(device=try_gpu())"
   ]
  },
  {
   "cell_type": "markdown",
   "id": "0b9ee350",
   "metadata": {
    "origin_pos": 55,
    "slideshow": {
     "slide_type": "slide"
    }
   },
   "source": [
    "当输入为GPU上的张量时，模型将在同一GPU上计算结果。"
   ]
  },
  {
   "cell_type": "code",
   "execution_count": 12,
   "id": "5cb3f68d",
   "metadata": {
    "execution": {
     "iopub.execute_input": "2022-12-07T16:36:14.738983Z",
     "iopub.status.busy": "2022-12-07T16:36:14.738441Z",
     "iopub.status.idle": "2022-12-07T16:36:15.201841Z",
     "shell.execute_reply": "2022-12-07T16:36:15.201024Z"
    },
    "origin_pos": 56,
    "tab": [
     "pytorch"
    ]
   },
   "outputs": [
    {
     "data": {
      "text/plain": [
       "tensor([[0.7887],\n",
       "        [0.7887]], device='cuda:0', grad_fn=<AddmmBackward0>)"
      ]
     },
     "execution_count": 12,
     "metadata": {},
     "output_type": "execute_result"
    }
   ],
   "source": [
    "net(X)"
   ]
  },
  {
   "cell_type": "markdown",
   "id": "de1eb32a",
   "metadata": {
    "origin_pos": 57,
    "slideshow": {
     "slide_type": "slide"
    }
   },
   "source": [
    "让我们(**确认模型参数存储在同一个GPU上。**)\n"
   ]
  },
  {
   "cell_type": "code",
   "execution_count": 13,
   "id": "f42fb71b",
   "metadata": {
    "execution": {
     "iopub.execute_input": "2022-12-07T16:36:15.205621Z",
     "iopub.status.busy": "2022-12-07T16:36:15.204977Z",
     "iopub.status.idle": "2022-12-07T16:36:15.210340Z",
     "shell.execute_reply": "2022-12-07T16:36:15.209602Z"
    },
    "origin_pos": 59,
    "tab": [
     "pytorch"
    ]
   },
   "outputs": [
    {
     "data": {
      "text/plain": [
       "device(type='cuda', index=0)"
      ]
     },
     "execution_count": 13,
     "metadata": {},
     "output_type": "execute_result"
    }
   ],
   "source": [
    "net[0].weight.data.device"
   ]
  },
  {
   "cell_type": "markdown",
   "id": "a76aafae",
   "metadata": {
    "origin_pos": 62,
    "slideshow": {
     "slide_type": "slide"
    }
   },
   "source": [
    "## 小结\n",
    "\n",
    "* 我们可以指定用于存储和计算的设备，例如CPU或GPU。默认情况下，数据在主内存中创建，然后使用CPU进行计算。\n",
    "* 深度学习框架要求计算的所有输入数据都在同一设备上，无论是CPU还是GPU。\n",
    "* 不经意地移动数据可能会显著降低性能。一个典型的错误如下：计算GPU上每个小批量的损失，并在命令行中将其报告给用户（或将其记录在NumPy `ndarray`中）时，将触发全局解释器锁，从而使所有GPU阻塞。最好是为GPU内部的日志分配内存，并且只移动较大的日志。\n"
   ]
  },
  {
   "cell_type": "markdown",
   "id": "71293baa",
   "metadata": {
    "origin_pos": 64,
    "slideshow": {
     "slide_type": "slide"
    },
    "tab": [
     "pytorch"
    ]
   },
   "source": [
    "## 练习\n",
    "\n",
    "1. 尝试一个计算量更大的任务，比如大矩阵的乘法，看看CPU和GPU之间的速度差异。再试一个计算量很小的任务呢？\n",
    "1. 我们应该如何在GPU上读写模型参数？\n",
    "1. 测量计算1000个$100 \\times 100$矩阵的矩阵乘法所需的时间，并记录输出矩阵的Frobenius范数，一次记录一个结果，而不是在GPU上保存日志并仅传输最终结果。\n",
    "1. 测量同时在两个GPU上执行两个矩阵乘法与在一个GPU上按顺序执行两个矩阵乘法所需的时间。提示：应该看到近乎线性的缩放。"
   ]
  }
 ],
 "metadata": {
  "celltoolbar": "Slideshow",
  "kernelspec": {
   "display_name": "Python 3 (ipykernel)",
   "language": "python",
   "name": "python3"
  },
  "language_info": {
   "codemirror_mode": {
    "name": "ipython",
    "version": 3
   },
   "file_extension": ".py",
   "mimetype": "text/x-python",
   "name": "python",
   "nbconvert_exporter": "python",
   "pygments_lexer": "ipython3",
   "version": "3.10.9"
  }
 },
 "nbformat": 4,
 "nbformat_minor": 5
}
